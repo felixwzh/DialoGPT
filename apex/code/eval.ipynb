{
 "cells": [
  {
   "cell_type": "code",
   "execution_count": 25,
   "metadata": {},
   "outputs": [],
   "source": [
    "import sacrebleu\n",
    "\n",
    "def read_tgt_data(file):\n",
    "    tgts=[]\n",
    "    with open(file,'r') as fin:\n",
    "        lines=fin.readlines()\n",
    "        for line in lines:\n",
    "            src,tgt=line.strip().split('￨')\n",
    "            tgt_=tgt.split(' ')[1:]\n",
    "            tgt=''\n",
    "            for word in tgt_:\n",
    "                tgt+=word\n",
    "                tgt+=' '\n",
    "            tgts.append(tgt[:-1])\n",
    "    return tgts\n",
    "def cal_bleu(ref_file,output_file,num=-1):\n",
    "    refs=read_tgt_data(file=ref_file)\n",
    "    outputs=read_tgt_data(file=output_file)\n",
    "    if num!=-1:\n",
    "        refs=refs[0:num]\n",
    "        outputs=outputs[0:num]\n",
    "    bleu = sacrebleu.corpus_bleu(outputs, [refs])\n",
    "#     bleu = sacrebleu.corpus_bleu(refs , [outputs])\n",
    "    \n",
    "    return bleu.score\n",
    "\n",
    "\n",
    "def eval_model(output_folder,output_file,decode_num):\n",
    "    def get_ref_file(mode):\n",
    "        \"\"\"\n",
    "        mode: [test,test_full,val,val_full]\n",
    "        \"\"\"\n",
    "        ref_file='../data/src_data_full_feat_tf_resplited_review/{}_ref.txt'.format(mode)\n",
    "        return ref_file\n",
    "    def get_output_file(output_folder,output_file,mode):\n",
    "        \"\"\"\n",
    "        mode: [test,test_full,val,val_full]\n",
    "        \"\"\"\n",
    "        decode_file='{}_ref.txt'.format(mode)\n",
    "        output_file='{}/{}_{}'.format(output_folder,decode_file,output_file)\n",
    "        return output_file\n",
    "    \n",
    "    bleu={}\n",
    "    print('='*30)\n",
    "    print(output_file)\n",
    "    for mode in ['test','val','train']:\n",
    "        ref_mode=mode\n",
    "        output_mode=mode\n",
    "        ref_file=get_ref_file(ref_mode)\n",
    "        output_file_=get_output_file(output_folder,output_file,output_mode)\n",
    "        try:\n",
    "            if mode=='train':\n",
    "                bleu_score=cal_bleu(ref_file,output_file_,decode_num)\n",
    "            else:\n",
    "                bleu_score=cal_bleu(ref_file,output_file_)\n",
    "                \n",
    "            bleu[output_mode]=bleu_score\n",
    "            print(output_mode,bleu_score)\n",
    "        except:\n",
    "            pass\n",
    "\n",
    "def gen_decode_bash(model_folder,output_folder,nums,file,CUDA=0,decode_num=-1):\n",
    "    with open(file,'w') as fout:\n",
    "        for num in nums:\n",
    "\n",
    "            for decode_file in ['test_ref.txt','val_ref.txt','train_ref.txt']:\n",
    "                if decode_file=='train_ref.txt':\n",
    "                    decode_num_=decode_num\n",
    "                else:\n",
    "                    decode_num_=-1\n",
    "            \n",
    "                num=str(num)\n",
    "                bash=\"\"\"CUDA_VISIBLE_DEVICES={CUDA} python gpt_decoder.py --model_folder '{model_folder}' \\\\\n",
    "                --model_name GP2-pretrain-step-{num}.pkl \\\\\n",
    "                --data_folder ../data/src_data_full_feat_tf_resplited_review \\\\\n",
    "                --decode_file {decode_file} --decode_num {decode_num} \\\\\n",
    "                --output_folder {output_folder} \\\\\n",
    "                --output_file step-{num}.txt\n",
    "                \"\"\".format(CUDA=CUDA,\n",
    "                          model_folder=model_folder,\n",
    "                          num=num,\n",
    "                          decode_file=decode_file,\n",
    "                           decode_num=decode_num_,\n",
    "                           output_folder=output_folder,\n",
    "                          )\n",
    "\n",
    "                fout.write(bash+'\\n')\n",
    "    return"
   ]
  },
  {
   "cell_type": "code",
   "execution_count": 2,
   "metadata": {},
   "outputs": [],
   "source": [
    "def get_bleu(nums,best_nums,folder,save_prefix):\n",
    "    for num in nums:\n",
    "        eval_model(output_folder='outputs/{}'.format(folder),output_file='{}{}.txt'.format(save_prefix,int(num)))\n",
    "    for best_num in best_nums:\n",
    "        eval_model(output_folder='outputs/{}'.format(folder),output_file='{}best_{}.txt'.format(save_prefix,int(best_num)))"
   ]
  },
  {
   "cell_type": "code",
   "execution_count": 17,
   "metadata": {},
   "outputs": [
    {
     "data": {
      "text/plain": [
       "0.11703895582180705"
      ]
     },
     "execution_count": 17,
     "metadata": {},
     "output_type": "execute_result"
    }
   ],
   "source": [
    "cal_bleu(ref_file='../data/src_data_full_feat_tf_resplited_review/test_ref.txt',output_file='../outputs/medium_10epochs_trial_2/test_ref.txt_step-12500.txt')"
   ]
  },
  {
   "cell_type": "code",
   "execution_count": 19,
   "metadata": {},
   "outputs": [
    {
     "data": {
      "text/plain": [
       "0.17393276928908522"
      ]
     },
     "execution_count": 19,
     "metadata": {},
     "output_type": "execute_result"
    }
   ],
   "source": [
    "cal_bleu(ref_file='../data/src_data_full_feat_tf_resplited_review/test_ref.txt',output_file='../outputs/medium_10epochs_trial_2/test_ref.txt_step-37500.txt')"
   ]
  },
  {
   "cell_type": "code",
   "execution_count": 21,
   "metadata": {},
   "outputs": [
    {
     "data": {
      "text/plain": [
       "0.03615903691369294"
      ]
     },
     "execution_count": 21,
     "metadata": {},
     "output_type": "execute_result"
    }
   ],
   "source": [
    "cal_bleu(ref_file='../data/src_data_full_feat_tf_resplited_review/test_ref.txt',output_file='../outputs/medium/test_ref.txt_medium_ft.txt')"
   ]
  },
  {
   "cell_type": "code",
   "execution_count": 23,
   "metadata": {},
   "outputs": [
    {
     "data": {
      "text/plain": [
       "0.15148506459777716"
      ]
     },
     "execution_count": 23,
     "metadata": {},
     "output_type": "execute_result"
    }
   ],
   "source": [
    "cal_bleu(ref_file='../data/src_data_full_feat_tf_resplited_review/test_ref.txt',output_file='../outputs/medium_10epochs/test_ref.txt_step-85000.txt')"
   ]
  },
  {
   "cell_type": "code",
   "execution_count": 18,
   "metadata": {},
   "outputs": [
    {
     "data": {
      "text/plain": [
       "0.10211872327674586"
      ]
     },
     "execution_count": 18,
     "metadata": {},
     "output_type": "execute_result"
    }
   ],
   "source": [
    "cal_bleu(ref_file='../data/src_data_full_feat_tf_resplited_review/val_ref.txt',output_file='../outputs/medium_10epochs_trial_2/val_ref.txt_step-12500.txt')"
   ]
  },
  {
   "cell_type": "code",
   "execution_count": 18,
   "metadata": {},
   "outputs": [
    {
     "data": {
      "text/plain": [
       "0.10211872327674586"
      ]
     },
     "execution_count": 18,
     "metadata": {},
     "output_type": "execute_result"
    }
   ],
   "source": [
    "cal_bleu(ref_file='../data/src_data_full_feat_tf_resplited_review/val_full_ref.txt',output_file='../outputs/medium_10epochs_trial_2/val_full_ref.txt_step-12500.txt')"
   ]
  },
  {
   "cell_type": "code",
   "execution_count": 24,
   "metadata": {},
   "outputs": [
    {
     "data": {
      "text/plain": [
       "0.11664429560219294"
      ]
     },
     "execution_count": 24,
     "metadata": {},
     "output_type": "execute_result"
    }
   ],
   "source": [
    "cal_bleu(ref_file='../data/src_data_full_feat_tf_resplited_review/test_full_ref.txt',output_file='../outputs/medium_10epochs_trial_2/test_full_ref.txt_step-12500.txt')"
   ]
  },
  {
   "cell_type": "code",
   "execution_count": null,
   "metadata": {},
   "outputs": [],
   "source": [
    "CUDA_VISIBLE_DEVICES=1 python gpt_decoder.py --model_folder '../models/medium_10epochs_trial_2/GPT2.1e-05.20.1gpu.2020-04-15200256' \\\n",
    "--model_name GP2-pretrain-step-37500.pkl \\\n",
    "--data_folder ../data/src_data_full_feat_tf_resplited_review \\\n",
    "--decode_file test_ref.txt \\\n",
    "--output_folder ../outputs/medium_10epochs_trial_2 \\\n",
    "--output_file step-37500.txt\n",
    "\n",
    "\n",
    "CUDA_VISIBLE_DEVICES=0 python gpt_decoder.py --model_folder '../models/medium' \\\n",
    "--model_name medium_ft.pkl \\\n",
    "--data_folder ../data/src_data_full_feat_tf_resplited_review \\\n",
    "--decode_file test_ref.txt \\\n",
    "--output_folder ../outputs/medium \\\n",
    "--output_file medium_ft.txt\n",
    "\n",
    "\n",
    "CUDA_VISIBLE_DEVICES=0 python gpt_decoder.py --model_folder '../models/medium_10epochs/GPT2.1e-05.20.1gpu.2020-04-15053755' \\\n",
    "--model_name GP2-pretrain-step-85000.pkl \\\n",
    "--data_folder ../data/src_data_full_feat_tf_resplited_review \\\n",
    "--decode_file test_ref.txt \\\n",
    "--output_folder ../outputs/medium_10epochs \\\n",
    "--output_file step-85000.txt\n",
    "\n",
    "CUDA_VISIBLE_DEVICES=0 python gpt_decoder.py --model_folder '../models/medium_10epochs_trial_3/GPT2.1e-05.20.1gpu.2020-04-16050142' \\\n",
    "--model_name GP2-pretrain-step-65000.pkl \\\n",
    "--data_folder ../data/src_data_full_feat_tf_resplited_review \\\n",
    "--decode_file test_ref.txt \\\n",
    "--output_folder ../outputs/medium_10epochs_trial_3 \\\n",
    "--output_file step-65000.txt\n",
    "\n",
    "\n"
   ]
  },
  {
   "cell_type": "code",
   "execution_count": 27,
   "metadata": {},
   "outputs": [],
   "source": [
    "model_folder='../models/medium_10epochs_trial_3/GPT2.1e-05.20.1gpu.2020-04-16050142'\n",
    "steps=[70000,45000,22500]\n",
    "steps=[210000,187500]\n",
    "# steps=[232500]\n",
    "steps=[250000,232500]\n",
    "CUDA=1\n",
    "decode_num=10000\n",
    "output_folder='../outputs/medium_10epochs_trial_3'\n",
    "file='eval_medium_2.sh'\n",
    "\n",
    "gen_decode_bash(model_folder,output_folder,steps,file,CUDA,decode_num)\n",
    "\n"
   ]
  },
  {
   "cell_type": "code",
   "execution_count": 33,
   "metadata": {},
   "outputs": [
    {
     "name": "stdout",
     "output_type": "stream",
     "text": [
      "==============================\n",
      "step-250000.txt\n",
      "test 1.1667799812568302\n",
      "val 1.1294278609381674\n",
      "train 5.121912927493648\n",
      "==============================\n",
      "step-232500.txt\n",
      "test 1.0877187687709555\n",
      "val 1.0941272553621735\n",
      "train 3.842732962699449\n"
     ]
    }
   ],
   "source": [
    "steps=[250000,232500]\n",
    "for step in steps:\n",
    "    eval_model(output_folder='../outputs/medium_10epochs_trial_3',\n",
    "               output_file='step-{}.txt'.format(step),\n",
    "               decode_num=decode_num)"
   ]
  },
  {
   "cell_type": "code",
   "execution_count": 34,
   "metadata": {},
   "outputs": [],
   "source": [
    "steps=[i*10000 for i in range(2,18,2)]"
   ]
  },
  {
   "cell_type": "code",
   "execution_count": 35,
   "metadata": {},
   "outputs": [
    {
     "data": {
      "text/plain": [
       "[20000, 40000, 60000, 80000, 100000, 120000, 140000, 160000]"
      ]
     },
     "execution_count": 35,
     "metadata": {},
     "output_type": "execute_result"
    }
   ],
   "source": [
    "steps"
   ]
  },
  {
   "cell_type": "code",
   "execution_count": 46,
   "metadata": {},
   "outputs": [],
   "source": [
    "model_folder='../../DialoGPT/models/medium_10epochs_trial_4/GPT2.1e-05.20.1gpu.2020-04-18015154'\n",
    "# steps=[20000, 40000, 60000, 80000]\n",
    "# steps=[100000, 120000, 140000, 160000]\n",
    "steps=[180000,200000]\n",
    "# steps=[220000,240000]\n",
    "steps=[250000]\n",
    "\n",
    "CUDA=0\n",
    "decode_num=10000\n",
    "output_folder='../outputs/medium_10epochs_trial_4'\n",
    "file='eval_medium_1.sh'\n",
    "\n",
    "gen_decode_bash(model_folder,output_folder,steps,file,CUDA,decode_num)\n",
    "\n"
   ]
  },
  {
   "cell_type": "code",
   "execution_count": 41,
   "metadata": {},
   "outputs": [
    {
     "name": "stdout",
     "output_type": "stream",
     "text": [
      "==============================\n",
      "step-20000.txt\n",
      "test 0.8048180739337994\n",
      "val 0.8803899843338444\n",
      "train 7.802846712614786\n",
      "==============================\n",
      "step-40000.txt\n",
      "test 1.0011792509399924\n",
      "val 1.0103775179238799\n",
      "train 4.870033467099847\n",
      "==============================\n",
      "step-60000.txt\n",
      "test 1.1494182080539148\n",
      "val 1.4309372612863296\n",
      "train 3.6049569509655695\n",
      "==============================\n",
      "step-80000.txt\n",
      "test 1.5136761670170067\n",
      "val 1.6869182456059462\n",
      "train 4.737564179843113\n",
      "==============================\n",
      "step-100000.txt\n",
      "test 1.5158436582862727\n",
      "val 1.5907977456464772\n",
      "train 5.507689345332864\n",
      "==============================\n",
      "step-120000.txt\n",
      "test 1.692008112806717\n",
      "val 1.8740326764680773\n",
      "train 5.707224655890369\n",
      "==============================\n",
      "step-140000.txt\n",
      "test 1.8452942124974379\n",
      "val 1.995035680889552\n",
      "train 5.92835729838237\n",
      "==============================\n",
      "step-160000.txt\n",
      "test 1.9598692829303723\n",
      "val 2.2250285210417746\n",
      "train 7.718717600857212\n"
     ]
    }
   ],
   "source": [
    "decode_num=10000\n",
    "output_folder='../outputs/medium_10epochs_trial_4'\n",
    "file='eval_medium_2.sh'\n",
    "\n",
    "steps=[20000, 40000, 60000, 80000, 100000, 120000, 140000, 160000]\n",
    "for step in steps:\n",
    "    eval_model(output_folder=output_folder,\n",
    "               output_file='step-{}.txt'.format(step),\n",
    "               decode_num=decode_num)"
   ]
  },
  {
   "cell_type": "code",
   "execution_count": 47,
   "metadata": {},
   "outputs": [
    {
     "name": "stdout",
     "output_type": "stream",
     "text": [
      "==============================\n",
      "step-250000.txt\n",
      "test 2.113877351821141\n",
      "val 2.5586963235763065\n",
      "train 6.475645349541125\n",
      "==============================\n",
      "step-180000.txt\n",
      "test 1.9492704817342041\n",
      "val 2.259773587510747\n",
      "train 6.150700614908794\n",
      "==============================\n",
      "step-200000.txt\n",
      "test 2.080680181507942\n",
      "val 2.467184719632024\n",
      "train 7.7089076904815\n",
      "==============================\n",
      "step-220000.txt\n",
      "test 2.541667008819786\n",
      "val 2.5455910411181217\n",
      "train 7.733149283996843\n",
      "==============================\n",
      "step-240000.txt\n",
      "test 2.2603283716266436\n",
      "val 2.60454242501654\n",
      "train 6.714508499505851\n"
     ]
    }
   ],
   "source": [
    "decode_num=10000\n",
    "output_folder='../outputs/medium_10epochs_trial_4'\n",
    "file='eval_medium_2.sh'\n",
    "\n",
    "steps=[250000,180000,200000,220000,240000]\n",
    "for step in steps:\n",
    "    eval_model(output_folder=output_folder,\n",
    "               output_file='step-{}.txt'.format(step),\n",
    "               decode_num=decode_num)"
   ]
  },
  {
   "cell_type": "code",
   "execution_count": null,
   "metadata": {},
   "outputs": [],
   "source": []
  },
  {
   "cell_type": "code",
   "execution_count": null,
   "metadata": {},
   "outputs": [],
   "source": []
  }
 ],
 "metadata": {
  "kernelspec": {
   "display_name": "Python 3",
   "language": "python",
   "name": "python3"
  },
  "language_info": {
   "codemirror_mode": {
    "name": "ipython",
    "version": 3
   },
   "file_extension": ".py",
   "mimetype": "text/x-python",
   "name": "python",
   "nbconvert_exporter": "python",
   "pygments_lexer": "ipython3",
   "version": "3.7.4"
  }
 },
 "nbformat": 4,
 "nbformat_minor": 4
}
