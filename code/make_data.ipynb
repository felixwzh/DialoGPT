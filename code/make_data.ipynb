{
 "cells": [
  {
   "cell_type": "code",
   "execution_count": 1,
   "metadata": {},
   "outputs": [],
   "source": [
    "import os"
   ]
  },
  {
   "cell_type": "code",
   "execution_count": 5,
   "metadata": {},
   "outputs": [],
   "source": [
    "input_file_dir='../../PerGen/code/OpenNMT-py/src_data_full_feat_tf_resplited_review'\n",
    "output_file_dir='../data/src_data_full_feat_tf_resplited_review'\n",
    "\n",
    "def clean_tgt_with_pid(line):\n",
    "    tokens=''\n",
    "    token_n_pids=line.strip().split(' ')\n",
    "    for token_n_pid in token_n_pids:\n",
    "        token,pid = token_n_pid.split('￨')\n",
    "        tokens+=token\n",
    "        tokens+=' '\n",
    "    return tokens[:-1]\n",
    "\n",
    "# make train_raw.tsv\n",
    "def gen_data(part,input_file_dir,output_file_dir):\n",
    "    with open(os.path.join(input_file_dir,'src-{}.txt'.format(part)),'r') as fin:\n",
    "        src = fin.readlines()\n",
    "    with open(os.path.join(input_file_dir,'tgt-{}.txt'.format(part)),'r') as fin:\n",
    "        tgt = fin.readlines()\n",
    "    with open(os.path.join(output_file_dir,'{}.tsv'.format(part)),'w') as fout:\n",
    "        for s,t in zip(src,tgt):\n",
    "            t=clean_tgt_with_pid(t)\n",
    "            fout.write('0.0 {}\\t1.0 {}\\n'.format(s.strip(),t.strip()))\n",
    "\n",
    "gen_data('train',input_file_dir,output_file_dir)\n",
    "\n",
    "gen_data('val',input_file_dir,output_file_dir)"
   ]
  },
  {
   "cell_type": "code",
   "execution_count": 6,
   "metadata": {},
   "outputs": [],
   "source": [
    "gen_data('test',input_file_dir,output_file_dir)\n",
    "gen_data('test-full',input_file_dir,output_file_dir)\n",
    "gen_data('val-full',input_file_dir,output_file_dir)"
   ]
  },
  {
   "cell_type": "code",
   "execution_count": null,
   "metadata": {},
   "outputs": [],
   "source": [
    "python prepro.py --corpus data/src_data_full_2M/train.tsv\n",
    "\n",
    "python prepro.py --corpus data/src_data_full_feat_tf_resplited_review/train.tsv\n",
    "python prepro.py --corpus data/src_data_full_feat_tf_resplited_review/test.tsv\n",
    "python prepro.py --corpus data/src_data_full_feat_tf_resplited_review/test-full.tsv\n",
    "python prepro.py --corpus data/src_data_full_feat_tf_resplited_review/val.tsv\n",
    "python prepro.py --corpus data/src_data_full_feat_tf_resplited_review/val-full.tsv\n"
   ]
  },
  {
   "cell_type": "code",
   "execution_count": null,
   "metadata": {},
   "outputs": [],
   "source": [
    "\n",
    "CUDA_VISIBLE_DEVICES=0 python LSP_train.py --train_input_file data/src_data_full_feat_tf_resplited_review/train.128len.db \\\n",
    "--eval_input_file data/src_data_full_feat_tf_resplited_review/val.tsv \\\n",
    "--output_dir 'models/medium_10epochs_trial_2' \\\n",
    "--model_name_or_path 'models/medium/' \\\n",
    "--init_checkpoint 'models/medium/medium_ft.pkl' \\\n",
    "--train_batch_size 40 \\\n",
    "--valid_step 2500 --num_optim_steps 250000\n",
    "\n",
    "\n",
    "CUDA_VISIBLE_DEVICES=0 python LSP_train.py --train_input_file data/src_data_full_feat_tf_resplited_review/train.128len.db \\\n",
    "--eval_input_file data/src_data_full_feat_tf_resplited_review/val.tsv \\\n",
    "--output_dir 'models/small_10epochs' \\\n",
    "--model_name_or_path 'models/small/' \\\n",
    "--init_checkpoint 'models/small/small_ft.pkl' \\\n",
    "--train_batch_size 80 --eval_batch_size 64 \\\n",
    "--valid_step 1250 --num_optim_steps 125000 \\\n",
    "\n",
    "\n",
    "CUDA_VISIBLE_DEVICES=1 python LSP_train.py --train_input_file data/src_data_full_feat_tf_resplited_review/train.128len.db \\\n",
    "--eval_input_file data/src_data_full_feat_tf_resplited_review/val.tsv \\\n",
    "--output_dir 'models/medium_10epochs_trial_3' \\\n",
    "--model_name_or_path 'models/medium/' \\\n",
    "--init_checkpoint 'models/medium_10epochs_trial_2/GPT2.1e-05.20.1gpu.2020-04-15200256/GP2-pretrain-step-37500.pkl' \\\n",
    "--train_batch_size 40 \\\n",
    "--valid_step 2500 --num_optim_steps 250000\n"
   ]
  },
  {
   "cell_type": "code",
   "execution_count": null,
   "metadata": {},
   "outputs": [],
   "source": [
    "\n",
    "CUDA_VISIBLE_DEVICES=0 python LSP_train.py --train_input_file data/src_data_full_feat_tf_resplited_review/train.128len.db \\\n",
    "--eval_input_file data/src_data_full_feat_tf_resplited_review/val.tsv \\\n",
    "--output_dir 'models/medium_10epochs' \\\n",
    "--model_name_or_path 'models/medium/' \\\n",
    "--init_checkpoint 'models/medium/medium_ft.pkl' \\\n",
    "--train_batch_size 20 --eval_batch_size 20 \\\n",
    "--valid_step 2500 --num_optim_steps 500000\n",
    "\n",
    "CUDA_VISIBLE_DEVICES=1 python LSP_train.py --train_input_file data/src_data_full_feat_tf_resplited_review/train.128len.db \\\n",
    "--eval_input_file data/src_data_full_feat_tf_resplited_review/val.tsv \\\n",
    "--output_dir 'models/small_10epochs' \\\n",
    "--model_name_or_path 'models/small/' \\\n",
    "--init_checkpoint 'models/small/small_ft.pkl' \\\n",
    "--train_batch_size 80 --eval_batch_size 20 \\\n",
    "--valid_step 1250 --num_optim_steps 125000 \\\n",
    "\n",
    "CUDA_VISIBLE_DEVICES=1 python LSP_train.py --train_input_file data/src_data_full_feat_tf_resplited_review/train.128len.db \\\n",
    "--eval_input_file data/src_data_full_feat_tf_resplited_review/val.tsv \\\n",
    "--output_dir 'models/small_10epochs_continue_2' \\\n",
    "--model_name_or_path 'models/small/' \\\n",
    "--init_checkpoint 'models/small_10epochs/GPT2.1e-05.40.1gpu.2020-04-15215141/GP2-pretrain-step-125000.pkl' \\\n",
    "--train_batch_size 80 --eval_batch_size 20 \\\n",
    "--valid_step 5000 --num_optim_steps 250000 \\"
   ]
  },
  {
   "cell_type": "code",
   "execution_count": 12,
   "metadata": {},
   "outputs": [
    {
     "data": {
      "text/plain": [
       "10.0"
      ]
     },
     "execution_count": 12,
     "metadata": {},
     "output_type": "execute_result"
    }
   ],
   "source": [
    "80*125000/1000000"
   ]
  },
  {
   "cell_type": "code",
   "execution_count": null,
   "metadata": {},
   "outputs": [],
   "source": []
  }
 ],
 "metadata": {
  "kernelspec": {
   "display_name": "Python 3",
   "language": "python",
   "name": "python3"
  },
  "language_info": {
   "codemirror_mode": {
    "name": "ipython",
    "version": 3
   },
   "file_extension": ".py",
   "mimetype": "text/x-python",
   "name": "python",
   "nbconvert_exporter": "python",
   "pygments_lexer": "ipython3",
   "version": "3.7.4"
  }
 },
 "nbformat": 4,
 "nbformat_minor": 4
}
