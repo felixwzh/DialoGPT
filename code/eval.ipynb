{
 "cells": [
  {
   "cell_type": "code",
   "execution_count": 16,
   "metadata": {},
   "outputs": [],
   "source": [
    "import sacrebleu\n",
    "\n",
    "def read_tgt_data(file):\n",
    "    tgts=[]\n",
    "    with open(file,'r') as fin:\n",
    "        lines=fin.readlines()\n",
    "        for line in lines:\n",
    "            src,tgt=line.strip().split('￨')\n",
    "            tgt_=tgt.split(' ')[1:]\n",
    "            tgt=''\n",
    "            for word in tgt_:\n",
    "                tgt+=word\n",
    "                tgt+=' '\n",
    "            tgts.append(tgt[:-1])\n",
    "    return tgts\n",
    "def cal_bleu(ref_file,output_file):\n",
    "    refs=read_tgt_data(file=ref_file)\n",
    "    outputs=read_tgt_data(file=output_file)\n",
    "    bleu = sacrebleu.corpus_bleu(outputs, [refs])\n",
    "#     bleu = sacrebleu.corpus_bleu(refs , [outputs])\n",
    "    \n",
    "    return bleu.score\n",
    "\n",
    "\n",
    "def eval_model(output_folder,output_file):\n",
    "    def get_ref_file(mode):\n",
    "        \"\"\"\n",
    "        mode: [test,test_full,val,val_full]\n",
    "        \"\"\"\n",
    "        ref_file='../data/src_data_full_feat_tf_resplited_review/{}_ref.txt'.format(mode)\n",
    "        return ref_file\n",
    "    def get_output_file(output_folder,output_file,mode):\n",
    "        \"\"\"\n",
    "        mode: [test,test_full,valid,valid_full]\n",
    "        \"\"\"\n",
    "        decode_file='{}.txt'.format(mode)\n",
    "        output_file='{}/{}_{}'.format(output_folder,decode_file,output_file)\n",
    "        return output_file\n",
    "    \n",
    "    bleu={}\n",
    "    print('='*30)\n",
    "    print(output_file)\n",
    "    for ref_mode,output_mode in zip(['test','test_full','val','val_full'],['test','test_full','valid','valid_full']):\n",
    "        ref_file=get_ref_file(ref_mode)\n",
    "        output_file_=get_output_file(output_folder,output_file,output_mode)\n",
    "        try:\n",
    "            bleu_score=cal_bleu(ref_file,output_file_)\n",
    "            bleu[output_mode]=bleu_score\n",
    "            print(output_mode,bleu_score)\n",
    "        except:\n",
    "            pass\n",
    "#     return bleu"
   ]
  },
  {
   "cell_type": "code",
   "execution_count": 2,
   "metadata": {},
   "outputs": [],
   "source": [
    "def get_bleu(nums,best_nums,folder,save_prefix):\n",
    "    for num in nums:\n",
    "        eval_model(output_folder='outputs/{}'.format(folder),output_file='{}{}.txt'.format(save_prefix,int(num)))\n",
    "    for best_num in best_nums:\n",
    "        eval_model(output_folder='outputs/{}'.format(folder),output_file='{}best_{}.txt'.format(save_prefix,int(best_num)))"
   ]
  },
  {
   "cell_type": "code",
   "execution_count": 17,
   "metadata": {},
   "outputs": [
    {
     "data": {
      "text/plain": [
       "0.11703895582180705"
      ]
     },
     "execution_count": 17,
     "metadata": {},
     "output_type": "execute_result"
    }
   ],
   "source": [
    "cal_bleu(ref_file='../data/src_data_full_feat_tf_resplited_review/test_ref.txt',output_file='../outputs/medium_10epochs_trial_2/test_ref.txt_step-12500.txt')"
   ]
  },
  {
   "cell_type": "code",
   "execution_count": 19,
   "metadata": {},
   "outputs": [
    {
     "data": {
      "text/plain": [
       "0.17393276928908522"
      ]
     },
     "execution_count": 19,
     "metadata": {},
     "output_type": "execute_result"
    }
   ],
   "source": [
    "cal_bleu(ref_file='../data/src_data_full_feat_tf_resplited_review/test_ref.txt',output_file='../outputs/medium_10epochs_trial_2/test_ref.txt_step-37500.txt')"
   ]
  },
  {
   "cell_type": "code",
   "execution_count": 21,
   "metadata": {},
   "outputs": [
    {
     "data": {
      "text/plain": [
       "0.03615903691369294"
      ]
     },
     "execution_count": 21,
     "metadata": {},
     "output_type": "execute_result"
    }
   ],
   "source": [
    "cal_bleu(ref_file='../data/src_data_full_feat_tf_resplited_review/test_ref.txt',output_file='../outputs/medium/test_ref.txt_medium_ft.txt')"
   ]
  },
  {
   "cell_type": "code",
   "execution_count": 23,
   "metadata": {},
   "outputs": [
    {
     "data": {
      "text/plain": [
       "0.15148506459777716"
      ]
     },
     "execution_count": 23,
     "metadata": {},
     "output_type": "execute_result"
    }
   ],
   "source": [
    "cal_bleu(ref_file='../data/src_data_full_feat_tf_resplited_review/test_ref.txt',output_file='../outputs/medium_10epochs/test_ref.txt_step-85000.txt')"
   ]
  },
  {
   "cell_type": "code",
   "execution_count": 18,
   "metadata": {},
   "outputs": [
    {
     "data": {
      "text/plain": [
       "0.10211872327674586"
      ]
     },
     "execution_count": 18,
     "metadata": {},
     "output_type": "execute_result"
    }
   ],
   "source": [
    "cal_bleu(ref_file='../data/src_data_full_feat_tf_resplited_review/val_ref.txt',output_file='../outputs/medium_10epochs_trial_2/val_ref.txt_step-12500.txt')"
   ]
  },
  {
   "cell_type": "code",
   "execution_count": 18,
   "metadata": {},
   "outputs": [
    {
     "data": {
      "text/plain": [
       "0.10211872327674586"
      ]
     },
     "execution_count": 18,
     "metadata": {},
     "output_type": "execute_result"
    }
   ],
   "source": [
    "cal_bleu(ref_file='../data/src_data_full_feat_tf_resplited_review/val_full_ref.txt',output_file='../outputs/medium_10epochs_trial_2/val_full_ref.txt_step-12500.txt')"
   ]
  },
  {
   "cell_type": "code",
   "execution_count": 24,
   "metadata": {},
   "outputs": [
    {
     "data": {
      "text/plain": [
       "0.11664429560219294"
      ]
     },
     "execution_count": 24,
     "metadata": {},
     "output_type": "execute_result"
    }
   ],
   "source": [
    "cal_bleu(ref_file='../data/src_data_full_feat_tf_resplited_review/test_full_ref.txt',output_file='../outputs/medium_10epochs_trial_2/test_full_ref.txt_step-12500.txt')"
   ]
  },
  {
   "cell_type": "code",
   "execution_count": null,
   "metadata": {},
   "outputs": [],
   "source": [
    "CUDA_VISIBLE_DEVICES=1 python gpt_decoder.py --model_folder '../models/medium_10epochs_trial_2/GPT2.1e-05.20.1gpu.2020-04-15200256' \\\n",
    "--model_name GP2-pretrain-step-37500.pkl \\\n",
    "--data_folder ../data/src_data_full_feat_tf_resplited_review \\\n",
    "--decode_file test_ref.txt \\\n",
    "--output_folder ../outputs/medium_10epochs_trial_2 \\\n",
    "--output_file step-37500.txt\n",
    "\n",
    "\n",
    "CUDA_VISIBLE_DEVICES=0 python gpt_decoder.py --model_folder '../models/medium' \\\n",
    "--model_name medium_ft.pkl \\\n",
    "--data_folder ../data/src_data_full_feat_tf_resplited_review \\\n",
    "--decode_file test_ref.txt \\\n",
    "--output_folder ../outputs/medium \\\n",
    "--output_file medium_ft.txt\n",
    "\n",
    "\n",
    "CUDA_VISIBLE_DEVICES=0 python gpt_decoder.py --model_folder '../models/medium_10epochs/GPT2.1e-05.20.1gpu.2020-04-15053755' \\\n",
    "--model_name GP2-pretrain-step-85000.pkl \\\n",
    "--data_folder ../data/src_data_full_feat_tf_resplited_review \\\n",
    "--decode_file test_ref.txt \\\n",
    "--output_folder ../outputs/medium_10epochs \\\n",
    "--output_file step-85000.txt\n"
   ]
  }
 ],
 "metadata": {
  "kernelspec": {
   "display_name": "Python 3",
   "language": "python",
   "name": "python3"
  },
  "language_info": {
   "codemirror_mode": {
    "name": "ipython",
    "version": 3
   },
   "file_extension": ".py",
   "mimetype": "text/x-python",
   "name": "python",
   "nbconvert_exporter": "python",
   "pygments_lexer": "ipython3",
   "version": "3.7.4"
  }
 },
 "nbformat": 4,
 "nbformat_minor": 4
}
